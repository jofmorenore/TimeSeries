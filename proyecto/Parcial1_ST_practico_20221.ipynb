{
  "nbformat": 4,
  "nbformat_minor": 0,
  "metadata": {
    "colab": {
      "provenance": [],
      "authorship_tag": "ABX9TyPHcQDkG/+W8TIht6ZiI7lZ",
      "include_colab_link": true
    },
    "kernelspec": {
      "name": "python3",
      "display_name": "Python 3"
    },
    "language_info": {
      "name": "python"
    }
  },
  "cells": [
    {
      "cell_type": "markdown",
      "metadata": {
        "id": "view-in-github",
        "colab_type": "text"
      },
      "source": [
        "<a href=\"https://colab.research.google.com/github/jofmorenore/TimeSeries/blob/master/proyecto/Parcial1_ST_practico_20221.ipynb\" target=\"_parent\"><img src=\"https://colab.research.google.com/assets/colab-badge.svg\" alt=\"Open In Colab\"/></a>"
      ]
    },
    {
      "cell_type": "code",
      "execution_count": 1,
      "metadata": {
        "id": "DHe7UfR5Mmyk"
      },
      "outputs": [],
      "source": [
        "%load_ext rpy2.ipython"
      ]
    },
    {
      "cell_type": "markdown",
      "source": [
        "Considere la serie de tiempo que le correspondió del archivo Retail.xlsx.\n",
        "Asuma que el el año 2018 es el año de validación y el año 2019 es el año de\n",
        "prueba."
      ],
      "metadata": {
        "id": "6po-P1dXNPPl"
      }
    },
    {
      "cell_type": "code",
      "source": [
        "%%R\n",
        "install.packages(\"fpp3\")\n",
        "library(fpp3)\n",
        "library(dplyr)"
      ],
      "metadata": {
        "id": "SAoxkE2kNUGq"
      },
      "execution_count": null,
      "outputs": []
    },
    {
      "cell_type": "code",
      "source": [
        "%%R\n",
        "data(aus_retail)\n",
        "str(aus_retail)"
      ],
      "metadata": {
        "colab": {
          "base_uri": "https://localhost:8080/"
        },
        "id": "x0QV2q8gNHwO",
        "outputId": "f202bf28-2d57-4b41-beb2-ed6a92672251"
      },
      "execution_count": 16,
      "outputs": [
        {
          "output_type": "stream",
          "name": "stdout",
          "text": [
            "tbl_ts [64,532 × 5] (S3: tbl_ts/tbl_df/tbl/data.frame)\n",
            " $ State    : chr [1:64532] \"Australian Capital Territory\" \"Australian Capital Territory\" \"Australian Capital Territory\" \"Australian Capital Territory\" ...\n",
            " $ Industry : chr [1:64532] \"Cafes, restaurants and catering services\" \"Cafes, restaurants and catering services\" \"Cafes, restaurants and catering services\" \"Cafes, restaurants and catering services\" ...\n",
            " $ Series ID: chr [1:64532] \"A3349849A\" \"A3349849A\" \"A3349849A\" \"A3349849A\" ...\n",
            " $ Month    : mth [1:64532] 1982 Apr, 1982 May, 1982 Jun, 1982 Jul, 1982 Aug, 1982 S...\n",
            " $ Turnover : num [1:64532] 4.4 3.4 3.6 4 3.6 4.2 4.8 5.4 6.9 3.8 ...\n",
            " - attr(*, \"key\")= tibble [152 × 3] (S3: tbl_df/tbl/data.frame)\n",
            "  ..$ State   : chr [1:152] \"Australian Capital Territory\" \"Australian Capital Territory\" \"Australian Capital Territory\" \"Australian Capital Territory\" ...\n",
            "  ..$ Industry: chr [1:152] \"Cafes, restaurants and catering services\" \"Cafes, restaurants and takeaway food services\" \"Clothing retailing\" \"Clothing, footwear and personal accessory retailing\" ...\n",
            "  ..$ .rows   : list<int> [1:152] \n",
            "  .. ..$ : int [1:441] 1 2 3 4 5 6 7 8 9 10 ...\n",
            "  .. ..$ : int [1:441] 442 443 444 445 446 447 448 449 450 451 ...\n",
            "  .. ..$ : int [1:441] 883 884 885 886 887 888 889 890 891 892 ...\n",
            "  .. ..$ : int [1:441] 1324 1325 1326 1327 1328 1329 1330 1331 1332 1333 ...\n",
            "  .. ..$ : int [1:441] 1765 1766 1767 1768 1769 1770 1771 1772 1773 1774 ...\n",
            "  .. ..$ : int [1:441] 2206 2207 2208 2209 2210 2211 2212 2213 2214 2215 ...\n",
            "  .. ..$ : int [1:441] 2647 2648 2649 2650 2651 2652 2653 2654 2655 2656 ...\n",
            "  .. ..$ : int [1:441] 3088 3089 3090 3091 3092 3093 3094 3095 3096 3097 ...\n",
            "  .. ..$ : int [1:441] 3529 3530 3531 3532 3533 3534 3535 3536 3537 3538 ...\n",
            "  .. ..$ : int [1:441] 3970 3971 3972 3973 3974 3975 3976 3977 3978 3979 ...\n",
            "  .. ..$ : int [1:441] 4411 4412 4413 4414 4415 4416 4417 4418 4419 4420 ...\n",
            "  .. ..$ : int [1:441] 4852 4853 4854 4855 4856 4857 4858 4859 4860 4861 ...\n",
            "  .. ..$ : int [1:441] 5293 5294 5295 5296 5297 5298 5299 5300 5301 5302 ...\n",
            "  .. ..$ : int [1:441] 5734 5735 5736 5737 5738 5739 5740 5741 5742 5743 ...\n",
            "  .. ..$ : int [1:441] 6175 6176 6177 6178 6179 6180 6181 6182 6183 6184 ...\n",
            "  .. ..$ : int [1:441] 6616 6617 6618 6619 6620 6621 6622 6623 6624 6625 ...\n",
            "  .. ..$ : int [1:441] 7057 7058 7059 7060 7061 7062 7063 7064 7065 7066 ...\n",
            "  .. ..$ : int [1:441] 7498 7499 7500 7501 7502 7503 7504 7505 7506 7507 ...\n",
            "  .. ..$ : int [1:441] 7939 7940 7941 7942 7943 7944 7945 7946 7947 7948 ...\n",
            "  .. ..$ : int [1:441] 8380 8381 8382 8383 8384 8385 8386 8387 8388 8389 ...\n",
            "  .. ..$ : int [1:441] 8821 8822 8823 8824 8825 8826 8827 8828 8829 8830 ...\n",
            "  .. ..$ : int [1:441] 9262 9263 9264 9265 9266 9267 9268 9269 9270 9271 ...\n",
            "  .. ..$ : int [1:441] 9703 9704 9705 9706 9707 9708 9709 9710 9711 9712 ...\n",
            "  .. ..$ : int [1:441] 10144 10145 10146 10147 10148 10149 10150 10151 10152 10153 ...\n",
            "  .. ..$ : int [1:441] 10585 10586 10587 10588 10589 10590 10591 10592 10593 10594 ...\n",
            "  .. ..$ : int [1:441] 11026 11027 11028 11029 11030 11031 11032 11033 11034 11035 ...\n",
            "  .. ..$ : int [1:441] 11467 11468 11469 11470 11471 11472 11473 11474 11475 11476 ...\n",
            "  .. ..$ : int [1:441] 11908 11909 11910 11911 11912 11913 11914 11915 11916 11917 ...\n",
            "  .. ..$ : int [1:441] 12349 12350 12351 12352 12353 12354 12355 12356 12357 12358 ...\n",
            "  .. ..$ : int [1:441] 12790 12791 12792 12793 12794 12795 12796 12797 12798 12799 ...\n",
            "  .. ..$ : int [1:441] 13231 13232 13233 13234 13235 13236 13237 13238 13239 13240 ...\n",
            "  .. ..$ : int [1:441] 13672 13673 13674 13675 13676 13677 13678 13679 13680 13681 ...\n",
            "  .. ..$ : int [1:441] 14113 14114 14115 14116 14117 14118 14119 14120 14121 14122 ...\n",
            "  .. ..$ : int [1:441] 14554 14555 14556 14557 14558 14559 14560 14561 14562 14563 ...\n",
            "  .. ..$ : int [1:441] 14995 14996 14997 14998 14999 15000 15001 15002 15003 15004 ...\n",
            "  .. ..$ : int [1:441] 15436 15437 15438 15439 15440 15441 15442 15443 15444 15445 ...\n",
            "  .. ..$ : int [1:441] 15877 15878 15879 15880 15881 15882 15883 15884 15885 15886 ...\n",
            "  .. ..$ : int [1:441] 16318 16319 16320 16321 16322 16323 16324 16325 16326 16327 ...\n",
            "  .. ..$ : int [1:441] 16759 16760 16761 16762 16763 16764 16765 16766 16767 16768 ...\n",
            "  .. ..$ : int [1:441] 17200 17201 17202 17203 17204 17205 17206 17207 17208 17209 ...\n",
            "  .. ..$ : int [1:369] 17641 17642 17643 17644 17645 17646 17647 17648 17649 17650 ...\n",
            "  .. ..$ : int [1:369] 18010 18011 18012 18013 18014 18015 18016 18017 18018 18019 ...\n",
            "  .. ..$ : int [1:369] 18379 18380 18381 18382 18383 18384 18385 18386 18387 18388 ...\n",
            "  .. ..$ : int [1:369] 18748 18749 18750 18751 18752 18753 18754 18755 18756 18757 ...\n",
            "  .. ..$ : int [1:369] 19117 19118 19119 19120 19121 19122 19123 19124 19125 19126 ...\n",
            "  .. ..$ : int [1:369] 19486 19487 19488 19489 19490 19491 19492 19493 19494 19495 ...\n",
            "  .. ..$ : int [1:369] 19855 19856 19857 19858 19859 19860 19861 19862 19863 19864 ...\n",
            "  .. ..$ : int [1:369] 20224 20225 20226 20227 20228 20229 20230 20231 20232 20233 ...\n",
            "  .. ..$ : int [1:369] 20593 20594 20595 20596 20597 20598 20599 20600 20601 20602 ...\n",
            "  .. ..$ : int [1:369] 20962 20963 20964 20965 20966 20967 20968 20969 20970 20971 ...\n",
            "  .. ..$ : int [1:369] 21331 21332 21333 21334 21335 21336 21337 21338 21339 21340 ...\n",
            "  .. ..$ : int [1:369] 21700 21701 21702 21703 21704 21705 21706 21707 21708 21709 ...\n",
            "  .. ..$ : int [1:369] 22069 22070 22071 22072 22073 22074 22075 22076 22077 22078 ...\n",
            "  .. ..$ : int [1:369] 22438 22439 22440 22441 22442 22443 22444 22445 22446 22447 ...\n",
            "  .. ..$ : int [1:369] 22807 22808 22809 22810 22811 22812 22813 22814 22815 22816 ...\n",
            "  .. ..$ : int [1:441] 23176 23177 23178 23179 23180 23181 23182 23183 23184 23185 ...\n",
            "  .. ..$ : int [1:441] 23617 23618 23619 23620 23621 23622 23623 23624 23625 23626 ...\n",
            "  .. ..$ : int [1:441] 24058 24059 24060 24061 24062 24063 24064 24065 24066 24067 ...\n",
            "  .. ..$ : int [1:441] 24499 24500 24501 24502 24503 24504 24505 24506 24507 24508 ...\n",
            "  .. ..$ : int [1:441] 24940 24941 24942 24943 24944 24945 24946 24947 24948 24949 ...\n",
            "  .. ..$ : int [1:441] 25381 25382 25383 25384 25385 25386 25387 25388 25389 25390 ...\n",
            "  .. ..$ : int [1:441] 25822 25823 25824 25825 25826 25827 25828 25829 25830 25831 ...\n",
            "  .. ..$ : int [1:441] 26263 26264 26265 26266 26267 26268 26269 26270 26271 26272 ...\n",
            "  .. ..$ : int [1:441] 26704 26705 26706 26707 26708 26709 26710 26711 26712 26713 ...\n",
            "  .. ..$ : int [1:441] 27145 27146 27147 27148 27149 27150 27151 27152 27153 27154 ...\n",
            "  .. ..$ : int [1:441] 27586 27587 27588 27589 27590 27591 27592 27593 27594 27595 ...\n",
            "  .. ..$ : int [1:140] 28027 28028 28029 28030 28031 28032 28033 28034 28035 28036 ...\n",
            "  .. ..$ : int [1:441] 28167 28168 28169 28170 28171 28172 28173 28174 28175 28176 ...\n",
            "  .. ..$ : int [1:441] 28608 28609 28610 28611 28612 28613 28614 28615 28616 28617 ...\n",
            "  .. ..$ : int [1:441] 29049 29050 29051 29052 29053 29054 29055 29056 29057 29058 ...\n",
            "  .. ..$ : int [1:441] 29490 29491 29492 29493 29494 29495 29496 29497 29498 29499 ...\n",
            "  .. ..$ : int [1:140] 29931 29932 29933 29934 29935 29936 29937 29938 29939 29940 ...\n",
            "  .. ..$ : int [1:441] 30071 30072 30073 30074 30075 30076 30077 30078 30079 30080 ...\n",
            "  .. ..$ : int [1:441] 30512 30513 30514 30515 30516 30517 30518 30519 30520 30521 ...\n",
            "  .. ..$ : int [1:441] 30953 30954 30955 30956 30957 30958 30959 30960 30961 30962 ...\n",
            "  .. ..$ : int [1:441] 31394 31395 31396 31397 31398 31399 31400 31401 31402 31403 ...\n",
            "  .. ..$ : int [1:441] 31835 31836 31837 31838 31839 31840 31841 31842 31843 31844 ...\n",
            "  .. ..$ : int [1:441] 32276 32277 32278 32279 32280 32281 32282 32283 32284 32285 ...\n",
            "  .. ..$ : int [1:441] 32717 32718 32719 32720 32721 32722 32723 32724 32725 32726 ...\n",
            "  .. ..$ : int [1:441] 33158 33159 33160 33161 33162 33163 33164 33165 33166 33167 ...\n",
            "  .. ..$ : int [1:441] 33599 33600 33601 33602 33603 33604 33605 33606 33607 33608 ...\n",
            "  .. ..$ : int [1:441] 34040 34041 34042 34043 34044 34045 34046 34047 34048 34049 ...\n",
            "  .. ..$ : int [1:441] 34481 34482 34483 34484 34485 34486 34487 34488 34489 34490 ...\n",
            "  .. ..$ : int [1:441] 34922 34923 34924 34925 34926 34927 34928 34929 34930 34931 ...\n",
            "  .. ..$ : int [1:441] 35363 35364 35365 35366 35367 35368 35369 35370 35371 35372 ...\n",
            "  .. ..$ : int [1:441] 35804 35805 35806 35807 35808 35809 35810 35811 35812 35813 ...\n",
            "  .. ..$ : int [1:441] 36245 36246 36247 36248 36249 36250 36251 36252 36253 36254 ...\n",
            "  .. ..$ : int [1:441] 36686 36687 36688 36689 36690 36691 36692 36693 36694 36695 ...\n",
            "  .. ..$ : int [1:441] 37127 37128 37129 37130 37131 37132 37133 37134 37135 37136 ...\n",
            "  .. ..$ : int [1:441] 37568 37569 37570 37571 37572 37573 37574 37575 37576 37577 ...\n",
            "  .. ..$ : int [1:441] 38009 38010 38011 38012 38013 38014 38015 38016 38017 38018 ...\n",
            "  .. ..$ : int [1:441] 38450 38451 38452 38453 38454 38455 38456 38457 38458 38459 ...\n",
            "  .. ..$ : int [1:441] 38891 38892 38893 38894 38895 38896 38897 38898 38899 38900 ...\n",
            "  .. ..$ : int [1:441] 39332 39333 39334 39335 39336 39337 39338 39339 39340 39341 ...\n",
            "  .. ..$ : int [1:441] 39773 39774 39775 39776 39777 39778 39779 39780 39781 39782 ...\n",
            "  .. ..$ : int [1:441] 40214 40215 40216 40217 40218 40219 40220 40221 40222 40223 ...\n",
            "  .. ..$ : int [1:441] 40655 40656 40657 40658 40659 40660 40661 40662 40663 40664 ...\n",
            "  .. ..$ : int [1:441] 41096 41097 41098 41099 41100 41101 41102 41103 41104 41105 ...\n",
            "  .. ..$ : int [1:441] 41537 41538 41539 41540 41541 41542 41543 41544 41545 41546 ...\n",
            "  .. .. [list output truncated]\n",
            "  .. ..@ ptype: int(0) \n",
            "  ..- attr(*, \".drop\")= logi TRUE\n",
            " - attr(*, \"index\")= chr \"Month\"\n",
            "  ..- attr(*, \"ordered\")= logi TRUE\n",
            " - attr(*, \"index2\")= chr \"Month\"\n",
            " - attr(*, \"interval\")= interval [1:1] 1M\n",
            "  ..@ .regular: logi TRUE\n"
          ]
        }
      ]
    },
    {
      "cell_type": "code",
      "source": [
        "%%R\n",
        "count(aus_retail, Industry, max(Month))"
      ],
      "metadata": {
        "colab": {
          "base_uri": "https://localhost:8080/"
        },
        "id": "c5AE0FhkOiFF",
        "outputId": "b897d36c-3175-4edc-832b-f37419382ea7"
      },
      "execution_count": 8,
      "outputs": [
        {
          "output_type": "stream",
          "name": "stdout",
          "text": [
            "# A tibble: 20 × 3\n",
            "   Industry                                                       max(Mo…¹     n\n",
            "   <chr>                                                             <mth> <int>\n",
            " 1 Cafes, restaurants and catering services                       2018 Dec  3456\n",
            " 2 Cafes, restaurants and takeaway food services                  2018 Dec  3456\n",
            " 3 Clothing retailing                                             2018 Dec  3456\n",
            " 4 Clothing, footwear and personal accessory retailing            2018 Dec  3456\n",
            " 5 Department stores                                              2018 Dec  2646\n",
            " 6 Electrical and electronic goods retailing                      2018 Dec  3456\n",
            " 7 Food retailing                                                 2018 Dec  3456\n",
            " 8 Footwear and other personal accessory retailing                2018 Dec  3456\n",
            " 9 Furniture, floor coverings, houseware and textile goods retai… 2018 Dec  3456\n",
            "10 Hardware, building and garden supplies retailing               2018 Dec  3456\n",
            "11 Household goods retailing                                      2018 Dec  3456\n",
            "12 Liquor retailing                                               2018 Dec  2377\n",
            "13 Newspaper and book retailing                                   2018 Dec  3456\n",
            "14 Other recreational goods retailing                             2018 Dec  3456\n",
            "15 Other retailing                                                2018 Dec  2646\n",
            "16 Other retailing n.e.c.                                         2018 Dec  2646\n",
            "17 Other specialised food retailing                               2018 Dec  2377\n",
            "18 Pharmaceutical, cosmetic and toiletry goods retailing          2018 Dec  3456\n",
            "19 Supermarket and grocery stores                                 2018 Dec  3456\n",
            "20 Takeaway food services                                         2018 Dec  3456\n",
            "# … with abbreviated variable name ¹​`max(Month)`\n"
          ]
        }
      ]
    },
    {
      "cell_type": "code",
      "source": [
        "%%R\n",
        "aus_cafe <- aus_retail %>%\n",
        "  filter(\n",
        "    Industry == \"Cafes, restaurants and takeaway food services\",\n",
        "    year(Month) %in% 2017:2018\n",
        "  )%>%\n",
        "  summarise(Turnover = sum(Turnover))\n",
        "str(aus_cafe)"
      ],
      "metadata": {
        "colab": {
          "base_uri": "https://localhost:8080/"
        },
        "id": "HMkdzdl9SjgO",
        "outputId": "aac2ed9d-930d-4e67-fd62-294747895011"
      },
      "execution_count": 10,
      "outputs": [
        {
          "output_type": "stream",
          "name": "stdout",
          "text": [
            "tbl_ts [24 × 2] (S3: tbl_ts/tbl_df/tbl/data.frame)\n",
            " $ Month   : mth [1:24] 2017 Jan, 2017 Feb, 2017 Mar, 2017 Apr, 2017 May, 2017 Jun,...\n",
            " $ Turnover: num [1:24] 3621 3261 3619 3567 3598 ...\n",
            " - attr(*, \"key\")= tibble [1 × 1] (S3: tbl_df/tbl/data.frame)\n",
            "  ..$ .rows: list<int> [1:1] \n",
            "  .. ..$ : int [1:24] 1 2 3 4 5 6 7 8 9 10 ...\n",
            "  .. ..@ ptype: int(0) \n",
            " - attr(*, \"index\")= chr \"Month\"\n",
            "  ..- attr(*, \"ordered\")= logi TRUE\n",
            " - attr(*, \"index2\")= chr \"Month\"\n",
            " - attr(*, \"interval\")= interval [1:1] 1M\n",
            "  ..@ .regular: logi TRUE\n"
          ]
        }
      ]
    },
    {
      "cell_type": "markdown",
      "source": [
        "# Punto 1\n",
        "Haga una análisis descriptivo de la serie de tiempo, es decir, realice todos los análisis necesarios para detectar las posibles caracterı́sticas que tiene presente la serie. Qué puede usted observar al respecto? (5 puntos)"
      ],
      "metadata": {
        "id": "1dLSU-coNmaM"
      }
    },
    {
      "cell_type": "code",
      "source": [
        "%%R\n",
        "aus_cafe%>%autoplot()"
      ],
      "metadata": {
        "colab": {
          "base_uri": "https://localhost:8080/",
          "height": 514
        },
        "id": "4MPFq_gdS_tv",
        "outputId": "a75a95bb-2f37-4894-9798-ad30d92fb108"
      },
      "execution_count": 11,
      "outputs": [
        {
          "output_type": "stream",
          "name": "stdout",
          "text": [
            "Plot variable not specified, automatically selected `.vars = Turnover`\n"
          ]
        },
        {
          "output_type": "display_data",
          "data": {
            "image/png": "[encoded data removed]"
          },
          "metadata": {}
        }
      ]
    },
    {
      "cell_type": "markdown",
      "source": [
        "La serie de `Retail` muestra una tendencia que parece ser determinística, la cual en general es creciente aunque no monotonamente, también muestra un ciclo estacional al inicio y al final de cada período anual, es decir el valor de la serie en el mes inicial de cada año decrece hasta llegar a su valor µinimo en el año, mientras que el valor de la serie en el mes final de cada año se incrementa hasta llegar a su valor máximo en el año, finalmente la serie muestra heterocedasticidad marginal."
      ],
      "metadata": {
        "id": "99VWAU_rUnGW"
      }
    },
    {
      "cell_type": "code",
      "source": [],
      "metadata": {
        "id": "Uz3DOXlUUZkz"
      },
      "execution_count": null,
      "outputs": []
    },
    {
      "cell_type": "markdown",
      "source": [
        "# Punto 2\n",
        "Ajuste 3 modelos para la serie de tiempo indicada"
      ],
      "metadata": {
        "id": "HSr3tbPONuxU"
      }
    }
  ]
}