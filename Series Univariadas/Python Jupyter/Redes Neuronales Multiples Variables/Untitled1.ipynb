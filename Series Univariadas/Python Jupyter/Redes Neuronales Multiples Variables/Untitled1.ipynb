{
 "cells": [
  {
   "cell_type": "code",
   "execution_count": 99,
   "id": "f682a037",
   "metadata": {},
   "outputs": [],
   "source": [
    "alphabet_minu = list(string.ascii_lowercase)"
   ]
  },
  {
   "cell_type": "code",
   "execution_count": 162,
   "id": "25f796e1",
   "metadata": {},
   "outputs": [],
   "source": [
    "caracter_minu=\"a\"\n",
    "caracter_mayu=\"jqnc eqoq?\"\n",
    "corrimiento=2\n"
   ]
  },
  {
   "cell_type": "code",
   "execution_count": 163,
   "id": "bb72cba1",
   "metadata": {},
   "outputs": [
    {
     "name": "stdout",
     "output_type": "stream",
     "text": [
      "['j', 'q', 'n', 'c', ' ', 'e', 'q', 'o', 'q', '?']\n"
     ]
    }
   ],
   "source": [
    "mensaje_min_list=list(caracter_mayu.lower())\n",
    "print(mensaje_min_list)\n",
    "longitud=len(mensaje_min_list)"
   ]
  },
  {
   "cell_type": "code",
   "execution_count": 164,
   "id": "d230215f",
   "metadata": {},
   "outputs": [],
   "source": [
    "mensaje_descifrado = [None] * len(mensaje_min_list)"
   ]
  },
  {
   "cell_type": "code",
   "execution_count": 165,
   "id": "23f934e6",
   "metadata": {},
   "outputs": [
    {
     "data": {
      "text/plain": [
       "10"
      ]
     },
     "execution_count": 165,
     "metadata": {},
     "output_type": "execute_result"
    }
   ],
   "source": [
    "longitud"
   ]
  },
  {
   "cell_type": "code",
   "execution_count": 166,
   "id": "08cc6118",
   "metadata": {},
   "outputs": [],
   "source": [
    "for pos in range(longitud):\n",
    "    i=0\n",
    "    n_enc=True\n",
    "    while(mensaje_min_list[pos]!=alphabet_minu[i] and n_enc):\n",
    "        i=i+1\n",
    "        aux_i=i\n",
    "        if(i>25):\n",
    "            n_enc=False\n",
    "            aux_i=i\n",
    "            i=25\n",
    "    mensaje_descifrado[pos]=alphabet_minu[i-corrimiento]\n",
    "    if aux_i==26:\n",
    "        mensaje_descifrado[pos]=mensaje_min_list[pos]\n",
    "    \n",
    "        \n"
   ]
  },
  {
   "cell_type": "code",
   "execution_count": 171,
   "id": "2c2cf189",
   "metadata": {},
   "outputs": [
    {
     "data": {
      "text/plain": [
       "'hola como?'"
      ]
     },
     "execution_count": 171,
     "metadata": {},
     "output_type": "execute_result"
    }
   ],
   "source": [
    "''.join(mensaje_descifrado)"
   ]
  },
  {
   "cell_type": "code",
   "execution_count": 3,
   "id": "50236b9e",
   "metadata": {},
   "outputs": [
    {
     "data": {
      "text/plain": [
       "False"
      ]
     },
     "execution_count": 3,
     "metadata": {},
     "output_type": "execute_result"
    }
   ],
   "source": [
    "caracter_minu==\"A\""
   ]
  },
  {
   "cell_type": "code",
   "execution_count": 24,
   "id": "397a5d7d",
   "metadata": {},
   "outputs": [
    {
     "name": "stdout",
     "output_type": "stream",
     "text": [
      "['a', 'b', 'c', 'd', 'e', 'f', 'g', 'h', 'i', 'j', 'k', 'l', 'm', 'n', 'o', 'p', 'q', 'r', 's', 't', 'u', 'v', 'w', 'x', 'y', 'z']\n"
     ]
    }
   ],
   "source": [
    "import string\n",
    "\n",
    "alphabet_mayu=list(string.ascii_uppercase)\n",
    "print(alphabet_minu)\n",
    "#print(alphabet_mayu)"
   ]
  },
  {
   "cell_type": "code",
   "execution_count": 45,
   "id": "ce241710",
   "metadata": {},
   "outputs": [],
   "source": [
    "def descifrar_codigo_cesar(texto_cifrado: str, corrimiento: int )->str:\n",
    "    import string \n",
    "    alphabet_minu=list(string.ascii_lowercase)\n",
    "    mensaje_min=texto_cifrado.lower()\n",
    "    mensaje_min_list=list(mensaje_min)\n",
    "    longitud=len(mensaje_min_list)\n",
    "    mensaje_descifrado = [None] * len(mensaje_min_list)\n",
    "\n",
    "    for pos in range(longitud):\n",
    "        i=0\n",
    "        n_enc=True\n",
    "        while(mensaje_min_list[pos]!=alphabet_minu[i] and n_enc):\n",
    "            i=i+1\n",
    "            aux_i=i\n",
    "            if(i>25):\n",
    "                n_enc=False\n",
    "                aux_i=i\n",
    "                i=25\n",
    "        mensaje_descifrado[pos]=alphabet_minu[i-corrimiento]\n",
    "        if aux_i==26:\n",
    "            mensaje_descifrado[pos]=mensaje_min_list[pos]\n",
    "\n",
    "    return str(mensaje_descifrado)"
   ]
  },
  {
   "cell_type": "code",
   "execution_count": 48,
   "id": "12cdd1b8",
   "metadata": {},
   "outputs": [
    {
     "data": {
      "text/plain": [
       "\"['i', 's', 'a', ' ', '!', '%', ' ', 'v', 'a', 'm', 'o', 's']\""
      ]
     },
     "execution_count": 48,
     "metadata": {},
     "output_type": "execute_result"
    }
   ],
   "source": [
    "descifrar_codigo_cesar(\"kuc !% xcoqu\",2)"
   ]
  },
  {
   "cell_type": "code",
   "execution_count": 34,
   "id": "1e1f9bd6",
   "metadata": {},
   "outputs": [],
   "source": [
    "texto_cifrado=\"kuc !\"\n",
    "corrimiento=2\n",
    "import string"
   ]
  },
  {
   "cell_type": "code",
   "execution_count": 42,
   "id": "73865625",
   "metadata": {},
   "outputs": [
    {
     "name": "stdout",
     "output_type": "stream",
     "text": [
      "0\n",
      "1\n",
      "2\n",
      "3\n",
      "3\n",
      "4\n",
      "4\n"
     ]
    }
   ],
   "source": [
    "alphabet_minu=list(string.ascii_lowercase)\n",
    "mensaje_min=texto_cifrado.lower()\n",
    "mensaje_min_list=list(mensaje_min)\n",
    "longitud=len(mensaje_min_list)\n",
    "mensaje_descifrado = [None] * len(mensaje_min_list)\n",
    "\n",
    "for pos in range(longitud):\n",
    "    i=0\n",
    "    n_enc=True\n",
    "    while(mensaje_min_list[pos]!=alphabet_minu[i] and n_enc):\n",
    "        i=i+1\n",
    "        aux_i=i\n",
    "        if(i>25):\n",
    "            n_enc=False\n",
    "            aux_i=i\n",
    "            i=25\n",
    "    print(pos)        \n",
    "    mensaje_descifrado[pos]=alphabet_minu[i-corrimiento]\n",
    "    if aux_i==26:\n",
    "        print(pos)\n",
    "        mensaje_descifrado[pos]=mensaje_min_list[pos]"
   ]
  },
  {
   "cell_type": "code",
   "execution_count": 43,
   "id": "f9b6c839",
   "metadata": {},
   "outputs": [
    {
     "data": {
      "text/plain": [
       "['i', 's', 'a', ' ', '!']"
      ]
     },
     "execution_count": 43,
     "metadata": {},
     "output_type": "execute_result"
    }
   ],
   "source": [
    "mensaje_descifrado"
   ]
  },
  {
   "cell_type": "code",
   "execution_count": null,
   "id": "108689c6",
   "metadata": {},
   "outputs": [],
   "source": []
  }
 ],
 "metadata": {
  "kernelspec": {
   "display_name": "Python 3",
   "language": "python",
   "name": "python3"
  },
  "language_info": {
   "codemirror_mode": {
    "name": "ipython",
    "version": 3
   },
   "file_extension": ".py",
   "mimetype": "text/x-python",
   "name": "python",
   "nbconvert_exporter": "python",
   "pygments_lexer": "ipython3",
   "version": "3.8.8"
  }
 },
 "nbformat": 4,
 "nbformat_minor": 5
}
